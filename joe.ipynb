{
 "cells": [
  {
   "cell_type": "code",
   "execution_count": 1,
   "metadata": {},
   "outputs": [],
   "source": [
    "import requests\n",
    "import json\n",
    "import pandas as pd\n",
    "import numpy as np"
   ]
  },
  {
   "cell_type": "code",
   "execution_count": 41,
   "metadata": {},
   "outputs": [],
   "source": [
    "# with open('./bike_test_friday.json', 'w+') as f:\n",
    "#     f.write(json.dumps(bikes, sort_keys=True, indent=4))"
   ]
  },
  {
   "cell_type": "code",
   "execution_count": 4,
   "metadata": {},
   "outputs": [],
   "source": [
    "f = open('./data/bike_test_friday.json')"
   ]
  },
  {
   "cell_type": "code",
   "execution_count": 5,
   "metadata": {},
   "outputs": [],
   "source": [
    "bikes = json.load(f)"
   ]
  },
  {
   "cell_type": "code",
   "execution_count": 6,
   "metadata": {},
   "outputs": [
    {
     "name": "stdout",
     "output_type": "stream",
     "text": [
      "Phillimore Gardens, Kensington\n",
      "TerminalName 001018\n",
      "Installed true\n",
      "Locked false\n",
      "InstallDate 1278585780000\n",
      "RemovalDate \n",
      "Temporary false\n",
      "NbBikes 14\n",
      "NbEmptyDocks 23\n",
      "NbDocks 37\n",
      "lat 51.499606\n",
      "long -0.197574\n"
     ]
    }
   ],
   "source": [
    "print(bikes[1]['commonName'])\n",
    "for  i in bikes[1]['additionalProperties']:\n",
    "    print(i['key'], i['value'])\n",
    "print('lat', bikes[1]['lat'])\n",
    "print('long', bikes[1]['lon'])"
   ]
  },
  {
   "cell_type": "code",
   "execution_count": 14,
   "metadata": {},
   "outputs": [],
   "source": [
    "# class BikeTimes():\n",
    "#     def __init__(self):\n",
    "#         self.date = datetime.now()\n",
    "#         self.hour = self.date.hour\n",
    "#         self.minute = self.date.minute\n",
    "#         self.url = 'https://api.tfl.gov.uk/Place/Type/BikePoint'\n",
    "#         self.data = requests.get(self.url).json()\n",
    "        \n",
    "#     def save_data(self):\n",
    "#         with open(f'./bike_data_{self.hour}_{self.minute}', 'w+') as f:\n",
    "#             f.write(json.dumps(self.data, sort_keys = True, indent = 4))\n",
    "        \n",
    "        "
   ]
  },
  {
   "cell_type": "code",
   "execution_count": 8,
   "metadata": {},
   "outputs": [],
   "source": [
    "# BikeTimes().save_data()"
   ]
  },
  {
   "cell_type": "code",
   "execution_count": 16,
   "metadata": {},
   "outputs": [],
   "source": [
    "# geo_test = requests.get(f\"http://www.datasciencetoolkit.org/coordinates2statistics/{lat}%2c{lon}\", params = {'statistics': 'population_density,elevation'}).json()\n"
   ]
  },
  {
   "cell_type": "code",
   "execution_count": 9,
   "metadata": {},
   "outputs": [],
   "source": [
    "#cols = ['name', 'num_bikes', 'num_empty', 'num_docks', 'lat', 'lon']\n",
    "bikes_list = []\n",
    "for i in range(len(bikes)):\n",
    "    name = bikes[i]['commonName']\n",
    "    time = 't1'\n",
    "    num_bikes = int(bikes[i]['additionalProperties'][-3]['value'])\n",
    "    num_empty = int(bikes[i]['additionalProperties'][-2]['value'])\n",
    "    num_docks = int(bikes[i]['additionalProperties'][-1]['value'])\n",
    "    lat = bikes[i]['lat']\n",
    "    lon = bikes[i]['lon']\n",
    "    faulty = True if num_docks - num_empty - num_bikes > 0 else False\n",
    "    \n",
    "#     geo_test = requests.get(f\"http://www.datasciencetoolkit.org/coordinates2statistics/{lat}%2c{lon}\", params = {'statistics': 'population_density,elevation'}).json()\n",
    "#     elevation = geo_test[0]['statistics']['elevation']['value']\n",
    "#     pop_dens = geo_test[0]['statistics']['population_density']['value']\n",
    "    \n",
    "    bike_dict = {'name': name,\n",
    "                 'time': time,\n",
    "                 'num_bikes': num_bikes,\n",
    "                 'num_empty': num_empty,\n",
    "                 'num_docks': num_docks,\n",
    "                 'coords': (lat,lon),\n",
    "                 'faulty': faulty}\n",
    "    \n",
    "    bikes_list.append(bike_dict)"
   ]
  },
  {
   "cell_type": "code",
   "execution_count": 10,
   "metadata": {},
   "outputs": [],
   "source": [
    "bikes_df = pd.DataFrame(bikes_list)"
   ]
  },
  {
   "cell_type": "code",
   "execution_count": 11,
   "metadata": {},
   "outputs": [
    {
     "data": {
      "text/html": [
       "<div>\n",
       "<style scoped>\n",
       "    .dataframe tbody tr th:only-of-type {\n",
       "        vertical-align: middle;\n",
       "    }\n",
       "\n",
       "    .dataframe tbody tr th {\n",
       "        vertical-align: top;\n",
       "    }\n",
       "\n",
       "    .dataframe thead th {\n",
       "        text-align: right;\n",
       "    }\n",
       "</style>\n",
       "<table border=\"1\" class=\"dataframe\">\n",
       "  <thead>\n",
       "    <tr style=\"text-align: right;\">\n",
       "      <th></th>\n",
       "      <th>name</th>\n",
       "      <th>time</th>\n",
       "      <th>num_bikes</th>\n",
       "      <th>num_empty</th>\n",
       "      <th>num_docks</th>\n",
       "      <th>coords</th>\n",
       "      <th>faulty</th>\n",
       "    </tr>\n",
       "  </thead>\n",
       "  <tbody>\n",
       "    <tr>\n",
       "      <td>0</td>\n",
       "      <td>River Street , Clerkenwell</td>\n",
       "      <td>t1</td>\n",
       "      <td>4</td>\n",
       "      <td>15</td>\n",
       "      <td>19</td>\n",
       "      <td>(51.529163, -0.10997)</td>\n",
       "      <td>False</td>\n",
       "    </tr>\n",
       "    <tr>\n",
       "      <td>1</td>\n",
       "      <td>Phillimore Gardens, Kensington</td>\n",
       "      <td>t1</td>\n",
       "      <td>14</td>\n",
       "      <td>23</td>\n",
       "      <td>37</td>\n",
       "      <td>(51.499606, -0.197574)</td>\n",
       "      <td>False</td>\n",
       "    </tr>\n",
       "    <tr>\n",
       "      <td>2</td>\n",
       "      <td>Christopher Street, Liverpool Street</td>\n",
       "      <td>t1</td>\n",
       "      <td>25</td>\n",
       "      <td>6</td>\n",
       "      <td>32</td>\n",
       "      <td>(51.521283, -0.084605)</td>\n",
       "      <td>True</td>\n",
       "    </tr>\n",
       "    <tr>\n",
       "      <td>3</td>\n",
       "      <td>St. Chad's Street, King's Cross</td>\n",
       "      <td>t1</td>\n",
       "      <td>20</td>\n",
       "      <td>3</td>\n",
       "      <td>23</td>\n",
       "      <td>(51.530059, -0.120973)</td>\n",
       "      <td>False</td>\n",
       "    </tr>\n",
       "    <tr>\n",
       "      <td>4</td>\n",
       "      <td>New Globe Walk, Bankside</td>\n",
       "      <td>t1</td>\n",
       "      <td>7</td>\n",
       "      <td>12</td>\n",
       "      <td>19</td>\n",
       "      <td>(51.507385, -0.09644)</td>\n",
       "      <td>False</td>\n",
       "    </tr>\n",
       "  </tbody>\n",
       "</table>\n",
       "</div>"
      ],
      "text/plain": [
       "                                   name time  num_bikes  num_empty  num_docks  \\\n",
       "0            River Street , Clerkenwell   t1          4         15         19   \n",
       "1        Phillimore Gardens, Kensington   t1         14         23         37   \n",
       "2  Christopher Street, Liverpool Street   t1         25          6         32   \n",
       "3       St. Chad's Street, King's Cross   t1         20          3         23   \n",
       "4              New Globe Walk, Bankside   t1          7         12         19   \n",
       "\n",
       "                   coords  faulty  \n",
       "0   (51.529163, -0.10997)   False  \n",
       "1  (51.499606, -0.197574)   False  \n",
       "2  (51.521283, -0.084605)    True  \n",
       "3  (51.530059, -0.120973)   False  \n",
       "4   (51.507385, -0.09644)   False  "
      ]
     },
     "execution_count": 11,
     "metadata": {},
     "output_type": "execute_result"
    }
   ],
   "source": [
    "bikes_df.head()"
   ]
  },
  {
   "cell_type": "code",
   "execution_count": 12,
   "metadata": {},
   "outputs": [
    {
     "name": "stdout",
     "output_type": "stream",
     "text": [
      "<class 'pandas.core.frame.DataFrame'>\n",
      "RangeIndex: 780 entries, 0 to 779\n",
      "Data columns (total 7 columns):\n",
      "name         780 non-null object\n",
      "time         780 non-null object\n",
      "num_bikes    780 non-null int64\n",
      "num_empty    780 non-null int64\n",
      "num_docks    780 non-null int64\n",
      "coords       780 non-null object\n",
      "faulty       780 non-null bool\n",
      "dtypes: bool(1), int64(3), object(3)\n",
      "memory usage: 37.4+ KB\n"
     ]
    }
   ],
   "source": [
    "bikes_df.info()"
   ]
  },
  {
   "cell_type": "code",
   "execution_count": 23,
   "metadata": {},
   "outputs": [],
   "source": [
    "# Dont need to run this! Just use the pickle\n",
    "\n",
    "geo_list = []\n",
    "for bike in bikes_list:\n",
    "    lat = bike['coords'][0]\n",
    "    lon = bike['coords'][1]\n",
    "    geo_test = requests.get(f\"http://www.datasciencetoolkit.org/coordinates2statistics/{lat}%2c{lon}\", params = {'statistics': 'population_density,elevation'}).json()\n",
    "    elevation = geo_test[0]['statistics']['elevation']['value']\n",
    "    pop_dens = geo_test[0]['statistics']['population_density']['value']\n",
    "    geo_dict = {'coords': bike['coords'],\n",
    "               'elevation': elevation,\n",
    "               'pop_dens': pop_dens}\n",
    "    geo_list.append(geo_dict)"
   ]
  },
  {
   "cell_type": "code",
   "execution_count": 38,
   "metadata": {},
   "outputs": [],
   "source": [
    "pop_mean = geo_df.pop_dens.quantile(0.75)"
   ]
  },
  {
   "cell_type": "code",
   "execution_count": 39,
   "metadata": {},
   "outputs": [
    {
     "data": {
      "text/plain": [
       "10605.0"
      ]
     },
     "execution_count": 39,
     "metadata": {},
     "output_type": "execute_result"
    }
   ],
   "source": [
    "pop_mean"
   ]
  },
  {
   "cell_type": "code",
   "execution_count": 27,
   "metadata": {},
   "outputs": [],
   "source": [
    "# geo_df = pd.DataFrame(geo_list).set_index('coords')"
   ]
  },
  {
   "cell_type": "code",
   "execution_count": 40,
   "metadata": {},
   "outputs": [],
   "source": [
    "geo_df['high_pop?'] = geo_df.pop_dens > pop_mean"
   ]
  },
  {
   "cell_type": "code",
   "execution_count": 57,
   "metadata": {},
   "outputs": [
    {
     "data": {
      "text/html": [
       "<div>\n",
       "<style scoped>\n",
       "    .dataframe tbody tr th:only-of-type {\n",
       "        vertical-align: middle;\n",
       "    }\n",
       "\n",
       "    .dataframe tbody tr th {\n",
       "        vertical-align: top;\n",
       "    }\n",
       "\n",
       "    .dataframe thead th {\n",
       "        text-align: right;\n",
       "    }\n",
       "</style>\n",
       "<table border=\"1\" class=\"dataframe\">\n",
       "  <thead>\n",
       "    <tr style=\"text-align: right;\">\n",
       "      <th></th>\n",
       "      <th>elevation</th>\n",
       "      <th>pop_dens</th>\n",
       "      <th>high_pop?</th>\n",
       "    </tr>\n",
       "    <tr>\n",
       "      <th>coords</th>\n",
       "      <th></th>\n",
       "      <th></th>\n",
       "      <th></th>\n",
       "    </tr>\n",
       "  </thead>\n",
       "  <tbody>\n",
       "    <tr>\n",
       "      <td>(51.529163, -0.10997)</td>\n",
       "      <td>31</td>\n",
       "      <td>10010</td>\n",
       "      <td>False</td>\n",
       "    </tr>\n",
       "    <tr>\n",
       "      <td>(51.499606, -0.197574)</td>\n",
       "      <td>17</td>\n",
       "      <td>11436</td>\n",
       "      <td>True</td>\n",
       "    </tr>\n",
       "    <tr>\n",
       "      <td>(51.521283, -0.084605)</td>\n",
       "      <td>27</td>\n",
       "      <td>10010</td>\n",
       "      <td>False</td>\n",
       "    </tr>\n",
       "    <tr>\n",
       "      <td>(51.530059, -0.120973)</td>\n",
       "      <td>22</td>\n",
       "      <td>10010</td>\n",
       "      <td>False</td>\n",
       "    </tr>\n",
       "    <tr>\n",
       "      <td>(51.507385, -0.09644)</td>\n",
       "      <td>16</td>\n",
       "      <td>10010</td>\n",
       "      <td>False</td>\n",
       "    </tr>\n",
       "  </tbody>\n",
       "</table>\n",
       "</div>"
      ],
      "text/plain": [
       "                        elevation  pop_dens  high_pop?\n",
       "coords                                                \n",
       "(51.529163, -0.10997)          31     10010      False\n",
       "(51.499606, -0.197574)         17     11436       True\n",
       "(51.521283, -0.084605)         27     10010      False\n",
       "(51.530059, -0.120973)         22     10010      False\n",
       "(51.507385, -0.09644)          16     10010      False"
      ]
     },
     "execution_count": 57,
     "metadata": {},
     "output_type": "execute_result"
    }
   ],
   "source": [
    "geo_df.head()"
   ]
  },
  {
   "cell_type": "code",
   "execution_count": 54,
   "metadata": {},
   "outputs": [],
   "source": [
    "# geo_df.to_pickle('geo_dataframe')"
   ]
  },
  {
   "cell_type": "code",
   "execution_count": 16,
   "metadata": {},
   "outputs": [],
   "source": [
    "geo_df = pd.read_pickle('geo_dataframe')"
   ]
  },
  {
   "cell_type": "code",
   "execution_count": 19,
   "metadata": {},
   "outputs": [
    {
     "data": {
      "text/html": [
       "<div>\n",
       "<style scoped>\n",
       "    .dataframe tbody tr th:only-of-type {\n",
       "        vertical-align: middle;\n",
       "    }\n",
       "\n",
       "    .dataframe tbody tr th {\n",
       "        vertical-align: top;\n",
       "    }\n",
       "\n",
       "    .dataframe thead th {\n",
       "        text-align: right;\n",
       "    }\n",
       "</style>\n",
       "<table border=\"1\" class=\"dataframe\">\n",
       "  <thead>\n",
       "    <tr style=\"text-align: right;\">\n",
       "      <th></th>\n",
       "      <th>elevation</th>\n",
       "      <th>pop_dens</th>\n",
       "      <th>high_pop?</th>\n",
       "    </tr>\n",
       "    <tr>\n",
       "      <th>coords</th>\n",
       "      <th></th>\n",
       "      <th></th>\n",
       "      <th></th>\n",
       "    </tr>\n",
       "  </thead>\n",
       "  <tbody>\n",
       "    <tr>\n",
       "      <td>(51.529163, -0.10997)</td>\n",
       "      <td>31</td>\n",
       "      <td>10010</td>\n",
       "      <td>False</td>\n",
       "    </tr>\n",
       "    <tr>\n",
       "      <td>(51.499606, -0.197574)</td>\n",
       "      <td>17</td>\n",
       "      <td>11436</td>\n",
       "      <td>True</td>\n",
       "    </tr>\n",
       "    <tr>\n",
       "      <td>(51.521283, -0.084605)</td>\n",
       "      <td>27</td>\n",
       "      <td>10010</td>\n",
       "      <td>False</td>\n",
       "    </tr>\n",
       "    <tr>\n",
       "      <td>(51.530059, -0.120973)</td>\n",
       "      <td>22</td>\n",
       "      <td>10010</td>\n",
       "      <td>False</td>\n",
       "    </tr>\n",
       "    <tr>\n",
       "      <td>(51.507385, -0.09644)</td>\n",
       "      <td>16</td>\n",
       "      <td>10010</td>\n",
       "      <td>False</td>\n",
       "    </tr>\n",
       "  </tbody>\n",
       "</table>\n",
       "</div>"
      ],
      "text/plain": [
       "                        elevation  pop_dens  high_pop?\n",
       "coords                                                \n",
       "(51.529163, -0.10997)          31     10010      False\n",
       "(51.499606, -0.197574)         17     11436       True\n",
       "(51.521283, -0.084605)         27     10010      False\n",
       "(51.530059, -0.120973)         22     10010      False\n",
       "(51.507385, -0.09644)          16     10010      False"
      ]
     },
     "execution_count": 19,
     "metadata": {},
     "output_type": "execute_result"
    }
   ],
   "source": [
    "geo_df.head()"
   ]
  },
  {
   "cell_type": "code",
   "execution_count": 79,
   "metadata": {},
   "outputs": [
    {
     "data": {
      "text/plain": [
       "780"
      ]
     },
     "execution_count": 79,
     "metadata": {},
     "output_type": "execute_result"
    }
   ],
   "source": [
    "len(geo_df)"
   ]
  },
  {
   "cell_type": "code",
   "execution_count": 21,
   "metadata": {},
   "outputs": [],
   "source": [
    "# Hill finder\n",
    "\n",
    "hill_list = []\n",
    "for n in range(len(geo_df)):\n",
    "    lat_n = geo_df.index[n][0]\n",
    "    lon_n = geo_df.index[n][1]\n",
    "#     print (lat_n,lon_n)\n",
    "    elev_list = []\n",
    "    for i in range(len(geo_df)):\n",
    "        lat_i = geo_df.index[i][0]\n",
    "        lon_i = geo_df.index[i][1]\n",
    "#         print(lat_i,lon_i)\n",
    "        bol = ((lat_n-lat_i)**2 + (lon_n - lon_i)**2 < 0.000005)\n",
    "        if bol:\n",
    "            elev_list.append(geo_df.iloc[i].elevation)\n",
    "    hill = (geo_df.iloc[n].elevation > np.mean(elev_list))\n",
    "    hill_list.append(hill)"
   ]
  },
  {
   "cell_type": "code",
   "execution_count": 82,
   "metadata": {},
   "outputs": [
    {
     "data": {
      "text/plain": [
       "[False, False, False, True, False]"
      ]
     },
     "execution_count": 82,
     "metadata": {},
     "output_type": "execute_result"
    }
   ],
   "source": [
    "hill_list[:5]"
   ]
  },
  {
   "cell_type": "code",
   "execution_count": 22,
   "metadata": {},
   "outputs": [],
   "source": [
    "geo_df['hill'] = hill_list"
   ]
  },
  {
   "cell_type": "code",
   "execution_count": 23,
   "metadata": {},
   "outputs": [
    {
     "data": {
      "text/html": [
       "<div>\n",
       "<style scoped>\n",
       "    .dataframe tbody tr th:only-of-type {\n",
       "        vertical-align: middle;\n",
       "    }\n",
       "\n",
       "    .dataframe tbody tr th {\n",
       "        vertical-align: top;\n",
       "    }\n",
       "\n",
       "    .dataframe thead th {\n",
       "        text-align: right;\n",
       "    }\n",
       "</style>\n",
       "<table border=\"1\" class=\"dataframe\">\n",
       "  <thead>\n",
       "    <tr style=\"text-align: right;\">\n",
       "      <th></th>\n",
       "      <th>elevation</th>\n",
       "      <th>pop_dens</th>\n",
       "      <th>high_pop?</th>\n",
       "      <th>hill</th>\n",
       "    </tr>\n",
       "    <tr>\n",
       "      <th>coords</th>\n",
       "      <th></th>\n",
       "      <th></th>\n",
       "      <th></th>\n",
       "      <th></th>\n",
       "    </tr>\n",
       "  </thead>\n",
       "  <tbody>\n",
       "    <tr>\n",
       "      <td>(51.529163, -0.10997)</td>\n",
       "      <td>31</td>\n",
       "      <td>10010</td>\n",
       "      <td>False</td>\n",
       "      <td>False</td>\n",
       "    </tr>\n",
       "    <tr>\n",
       "      <td>(51.499606, -0.197574)</td>\n",
       "      <td>17</td>\n",
       "      <td>11436</td>\n",
       "      <td>True</td>\n",
       "      <td>False</td>\n",
       "    </tr>\n",
       "    <tr>\n",
       "      <td>(51.521283, -0.084605)</td>\n",
       "      <td>27</td>\n",
       "      <td>10010</td>\n",
       "      <td>False</td>\n",
       "      <td>False</td>\n",
       "    </tr>\n",
       "    <tr>\n",
       "      <td>(51.530059, -0.120973)</td>\n",
       "      <td>22</td>\n",
       "      <td>10010</td>\n",
       "      <td>False</td>\n",
       "      <td>True</td>\n",
       "    </tr>\n",
       "    <tr>\n",
       "      <td>(51.507385, -0.09644)</td>\n",
       "      <td>16</td>\n",
       "      <td>10010</td>\n",
       "      <td>False</td>\n",
       "      <td>False</td>\n",
       "    </tr>\n",
       "  </tbody>\n",
       "</table>\n",
       "</div>"
      ],
      "text/plain": [
       "                        elevation  pop_dens  high_pop?   hill\n",
       "coords                                                       \n",
       "(51.529163, -0.10997)          31     10010      False  False\n",
       "(51.499606, -0.197574)         17     11436       True  False\n",
       "(51.521283, -0.084605)         27     10010      False  False\n",
       "(51.530059, -0.120973)         22     10010      False   True\n",
       "(51.507385, -0.09644)          16     10010      False  False"
      ]
     },
     "execution_count": 23,
     "metadata": {},
     "output_type": "execute_result"
    }
   ],
   "source": [
    "geo_df.head()"
   ]
  },
  {
   "cell_type": "code",
   "execution_count": 24,
   "metadata": {},
   "outputs": [],
   "source": [
    "bikes_df = bikes_df.join(geo_df, on = 'coords')"
   ]
  },
  {
   "cell_type": "code",
   "execution_count": 25,
   "metadata": {},
   "outputs": [
    {
     "data": {
      "text/html": [
       "<div>\n",
       "<style scoped>\n",
       "    .dataframe tbody tr th:only-of-type {\n",
       "        vertical-align: middle;\n",
       "    }\n",
       "\n",
       "    .dataframe tbody tr th {\n",
       "        vertical-align: top;\n",
       "    }\n",
       "\n",
       "    .dataframe thead th {\n",
       "        text-align: right;\n",
       "    }\n",
       "</style>\n",
       "<table border=\"1\" class=\"dataframe\">\n",
       "  <thead>\n",
       "    <tr style=\"text-align: right;\">\n",
       "      <th></th>\n",
       "      <th>name</th>\n",
       "      <th>time</th>\n",
       "      <th>num_bikes</th>\n",
       "      <th>num_empty</th>\n",
       "      <th>num_docks</th>\n",
       "      <th>coords</th>\n",
       "      <th>faulty</th>\n",
       "      <th>elevation</th>\n",
       "      <th>pop_dens</th>\n",
       "      <th>high_pop?</th>\n",
       "      <th>hill</th>\n",
       "    </tr>\n",
       "  </thead>\n",
       "  <tbody>\n",
       "    <tr>\n",
       "      <td>0</td>\n",
       "      <td>River Street , Clerkenwell</td>\n",
       "      <td>t1</td>\n",
       "      <td>4</td>\n",
       "      <td>15</td>\n",
       "      <td>19</td>\n",
       "      <td>(51.529163, -0.10997)</td>\n",
       "      <td>False</td>\n",
       "      <td>31</td>\n",
       "      <td>10010</td>\n",
       "      <td>False</td>\n",
       "      <td>False</td>\n",
       "    </tr>\n",
       "    <tr>\n",
       "      <td>1</td>\n",
       "      <td>Phillimore Gardens, Kensington</td>\n",
       "      <td>t1</td>\n",
       "      <td>14</td>\n",
       "      <td>23</td>\n",
       "      <td>37</td>\n",
       "      <td>(51.499606, -0.197574)</td>\n",
       "      <td>False</td>\n",
       "      <td>17</td>\n",
       "      <td>11436</td>\n",
       "      <td>True</td>\n",
       "      <td>False</td>\n",
       "    </tr>\n",
       "    <tr>\n",
       "      <td>2</td>\n",
       "      <td>Christopher Street, Liverpool Street</td>\n",
       "      <td>t1</td>\n",
       "      <td>25</td>\n",
       "      <td>6</td>\n",
       "      <td>32</td>\n",
       "      <td>(51.521283, -0.084605)</td>\n",
       "      <td>True</td>\n",
       "      <td>27</td>\n",
       "      <td>10010</td>\n",
       "      <td>False</td>\n",
       "      <td>False</td>\n",
       "    </tr>\n",
       "    <tr>\n",
       "      <td>3</td>\n",
       "      <td>St. Chad's Street, King's Cross</td>\n",
       "      <td>t1</td>\n",
       "      <td>20</td>\n",
       "      <td>3</td>\n",
       "      <td>23</td>\n",
       "      <td>(51.530059, -0.120973)</td>\n",
       "      <td>False</td>\n",
       "      <td>22</td>\n",
       "      <td>10010</td>\n",
       "      <td>False</td>\n",
       "      <td>True</td>\n",
       "    </tr>\n",
       "    <tr>\n",
       "      <td>4</td>\n",
       "      <td>New Globe Walk, Bankside</td>\n",
       "      <td>t1</td>\n",
       "      <td>7</td>\n",
       "      <td>12</td>\n",
       "      <td>19</td>\n",
       "      <td>(51.507385, -0.09644)</td>\n",
       "      <td>False</td>\n",
       "      <td>16</td>\n",
       "      <td>10010</td>\n",
       "      <td>False</td>\n",
       "      <td>False</td>\n",
       "    </tr>\n",
       "  </tbody>\n",
       "</table>\n",
       "</div>"
      ],
      "text/plain": [
       "                                   name time  num_bikes  num_empty  num_docks  \\\n",
       "0            River Street , Clerkenwell   t1          4         15         19   \n",
       "1        Phillimore Gardens, Kensington   t1         14         23         37   \n",
       "2  Christopher Street, Liverpool Street   t1         25          6         32   \n",
       "3       St. Chad's Street, King's Cross   t1         20          3         23   \n",
       "4              New Globe Walk, Bankside   t1          7         12         19   \n",
       "\n",
       "                   coords  faulty  elevation  pop_dens  high_pop?   hill  \n",
       "0   (51.529163, -0.10997)   False         31     10010      False  False  \n",
       "1  (51.499606, -0.197574)   False         17     11436       True  False  \n",
       "2  (51.521283, -0.084605)    True         27     10010      False  False  \n",
       "3  (51.530059, -0.120973)   False         22     10010      False   True  \n",
       "4   (51.507385, -0.09644)   False         16     10010      False  False  "
      ]
     },
     "execution_count": 25,
     "metadata": {},
     "output_type": "execute_result"
    }
   ],
   "source": [
    "bikes_df.head()"
   ]
  },
  {
   "cell_type": "code",
   "execution_count": 31,
   "metadata": {},
   "outputs": [
    {
     "data": {
      "text/plain": [
       "51.529163"
      ]
     },
     "execution_count": 31,
     "metadata": {},
     "output_type": "execute_result"
    }
   ],
   "source": [
    "bikes_df.coords[0][0]"
   ]
  },
  {
   "cell_type": "code",
   "execution_count": 40,
   "metadata": {},
   "outputs": [],
   "source": [
    "faulty_list = []\n",
    "for n in range(len(bikes_df)):\n",
    "    lat_n = bikes_df.coords[n][0]\n",
    "    lon_n = bikes_df.coords[n][1]\n",
    "    faulty_near = 0\n",
    "    for i in range(len(geo_df)):\n",
    "        lat_i = bikes_df.coords[i][0]\n",
    "        lon_i = bikes_df.coords[i][1]\n",
    "        bol = ((lat_n-lat_i)**2 + (lon_n - lon_i)**2 < 0.000005)\n",
    "        if bol:\n",
    "            faulty_near += 1\n",
    "    faulty_list.append(faulty_near)"
   ]
  },
  {
   "cell_type": "code",
   "execution_count": 41,
   "metadata": {},
   "outputs": [],
   "source": [
    "bikes_df['num_faulty_near'] = faulty_list"
   ]
  },
  {
   "cell_type": "code",
   "execution_count": 52,
   "metadata": {},
   "outputs": [
    {
     "data": {
      "text/html": [
       "<div>\n",
       "<style scoped>\n",
       "    .dataframe tbody tr th:only-of-type {\n",
       "        vertical-align: middle;\n",
       "    }\n",
       "\n",
       "    .dataframe tbody tr th {\n",
       "        vertical-align: top;\n",
       "    }\n",
       "\n",
       "    .dataframe thead th {\n",
       "        text-align: right;\n",
       "    }\n",
       "</style>\n",
       "<table border=\"1\" class=\"dataframe\">\n",
       "  <thead>\n",
       "    <tr style=\"text-align: right;\">\n",
       "      <th></th>\n",
       "      <th>name</th>\n",
       "      <th>time</th>\n",
       "      <th>num_bikes</th>\n",
       "      <th>num_empty</th>\n",
       "      <th>num_docks</th>\n",
       "      <th>coords</th>\n",
       "      <th>faulty</th>\n",
       "      <th>elevation</th>\n",
       "      <th>pop_dens</th>\n",
       "      <th>high_pop?</th>\n",
       "      <th>hill</th>\n",
       "      <th>num_faulty_near</th>\n",
       "    </tr>\n",
       "  </thead>\n",
       "  <tbody>\n",
       "    <tr>\n",
       "      <td>0</td>\n",
       "      <td>River Street , Clerkenwell</td>\n",
       "      <td>t1</td>\n",
       "      <td>4</td>\n",
       "      <td>15</td>\n",
       "      <td>19</td>\n",
       "      <td>(51.529163, -0.10997)</td>\n",
       "      <td>False</td>\n",
       "      <td>31</td>\n",
       "      <td>10010</td>\n",
       "      <td>False</td>\n",
       "      <td>False</td>\n",
       "      <td>1</td>\n",
       "    </tr>\n",
       "    <tr>\n",
       "      <td>1</td>\n",
       "      <td>Phillimore Gardens, Kensington</td>\n",
       "      <td>t1</td>\n",
       "      <td>14</td>\n",
       "      <td>23</td>\n",
       "      <td>37</td>\n",
       "      <td>(51.499606, -0.197574)</td>\n",
       "      <td>False</td>\n",
       "      <td>17</td>\n",
       "      <td>11436</td>\n",
       "      <td>True</td>\n",
       "      <td>False</td>\n",
       "      <td>1</td>\n",
       "    </tr>\n",
       "    <tr>\n",
       "      <td>2</td>\n",
       "      <td>Christopher Street, Liverpool Street</td>\n",
       "      <td>t1</td>\n",
       "      <td>25</td>\n",
       "      <td>6</td>\n",
       "      <td>32</td>\n",
       "      <td>(51.521283, -0.084605)</td>\n",
       "      <td>True</td>\n",
       "      <td>27</td>\n",
       "      <td>10010</td>\n",
       "      <td>False</td>\n",
       "      <td>False</td>\n",
       "      <td>3</td>\n",
       "    </tr>\n",
       "    <tr>\n",
       "      <td>3</td>\n",
       "      <td>St. Chad's Street, King's Cross</td>\n",
       "      <td>t1</td>\n",
       "      <td>20</td>\n",
       "      <td>3</td>\n",
       "      <td>23</td>\n",
       "      <td>(51.530059, -0.120973)</td>\n",
       "      <td>False</td>\n",
       "      <td>22</td>\n",
       "      <td>10010</td>\n",
       "      <td>False</td>\n",
       "      <td>True</td>\n",
       "      <td>3</td>\n",
       "    </tr>\n",
       "    <tr>\n",
       "      <td>4</td>\n",
       "      <td>New Globe Walk, Bankside</td>\n",
       "      <td>t1</td>\n",
       "      <td>7</td>\n",
       "      <td>12</td>\n",
       "      <td>19</td>\n",
       "      <td>(51.507385, -0.09644)</td>\n",
       "      <td>False</td>\n",
       "      <td>16</td>\n",
       "      <td>10010</td>\n",
       "      <td>False</td>\n",
       "      <td>False</td>\n",
       "      <td>1</td>\n",
       "    </tr>\n",
       "  </tbody>\n",
       "</table>\n",
       "</div>"
      ],
      "text/plain": [
       "                                   name time  num_bikes  num_empty  num_docks  \\\n",
       "0            River Street , Clerkenwell   t1          4         15         19   \n",
       "1        Phillimore Gardens, Kensington   t1         14         23         37   \n",
       "2  Christopher Street, Liverpool Street   t1         25          6         32   \n",
       "3       St. Chad's Street, King's Cross   t1         20          3         23   \n",
       "4              New Globe Walk, Bankside   t1          7         12         19   \n",
       "\n",
       "                   coords  faulty  elevation  pop_dens  high_pop?   hill  \\\n",
       "0   (51.529163, -0.10997)   False         31     10010      False  False   \n",
       "1  (51.499606, -0.197574)   False         17     11436       True  False   \n",
       "2  (51.521283, -0.084605)    True         27     10010      False  False   \n",
       "3  (51.530059, -0.120973)   False         22     10010      False   True   \n",
       "4   (51.507385, -0.09644)   False         16     10010      False  False   \n",
       "\n",
       "   num_faulty_near  \n",
       "0                1  \n",
       "1                1  \n",
       "2                3  \n",
       "3                3  \n",
       "4                1  "
      ]
     },
     "execution_count": 52,
     "metadata": {},
     "output_type": "execute_result"
    }
   ],
   "source": [
    "bikes_df.head()"
   ]
  },
  {
   "cell_type": "code",
   "execution_count": 49,
   "metadata": {},
   "outputs": [
    {
     "data": {
      "text/plain": [
       "1     6.042633\n",
       "2     5.505332\n",
       "3     4.430817\n",
       "4     2.564949\n",
       "5     2.197225\n",
       "7     1.386294\n",
       "6     0.693147\n",
       "10    0.000000\n",
       "Name: num_faulty_near, dtype: float64"
      ]
     },
     "execution_count": 49,
     "metadata": {},
     "output_type": "execute_result"
    }
   ],
   "source": [
    "bikes_df.num_faulty_near.value_counts().apply(lambda x : np.log(x))"
   ]
  },
  {
   "cell_type": "code",
   "execution_count": 54,
   "metadata": {},
   "outputs": [
    {
     "data": {
      "text/plain": [
       "1     421\n",
       "2     246\n",
       "3      84\n",
       "4      13\n",
       "5       9\n",
       "7       4\n",
       "6       2\n",
       "10      1\n",
       "Name: num_faulty_near, dtype: int64"
      ]
     },
     "execution_count": 54,
     "metadata": {},
     "output_type": "execute_result"
    }
   ],
   "source": [
    "bikes_df.num_faulty_near.value_counts()"
   ]
  },
  {
   "cell_type": "code",
   "execution_count": 26,
   "metadata": {},
   "outputs": [],
   "source": [
    "import seaborn as sns"
   ]
  },
  {
   "cell_type": "code",
   "execution_count": 59,
   "metadata": {},
   "outputs": [
    {
     "data": {
      "text/plain": [
       "<matplotlib.axes._subplots.AxesSubplot at 0x1a25c86cf8>"
      ]
     },
     "execution_count": 59,
     "metadata": {},
     "output_type": "execute_result"
    },
    {
     "data": {
      "image/png": "[encoded data removed]",
      "text/plain": [
       "<Figure size 432x288 with 1 Axes>"
      ]
     },
     "metadata": {
      "needs_background": "light"
     },
     "output_type": "display_data"
    }
   ],
   "source": [
    "sns.distplot(bikes_df.loc[bikes_df['faulty'] == True].num_faulty_near.value_counts().apply(lambda x : np.log(x)))\n",
    "sns.distplot(bikes_df.num_faulty_near.value_counts().apply(lambda x : np.log(x)))"
   ]
  },
  {
   "cell_type": "code",
   "execution_count": null,
   "metadata": {},
   "outputs": [],
   "source": []
  }
 ],
 "metadata": {
  "kernelspec": {
   "display_name": "Python [conda env:learn-env] *",
   "language": "python",
   "name": "conda-env-learn-env-py"
  },
  "language_info": {
   "codemirror_mode": {
    "name": "ipython",
    "version": 3
   },
   "file_extension": ".py",
   "mimetype": "text/x-python",
   "name": "python",
   "nbconvert_exporter": "python",
   "pygments_lexer": "ipython3",
   "version": "3.6.9"
  }
 },
 "nbformat": 4,
 "nbformat_minor": 4
}
